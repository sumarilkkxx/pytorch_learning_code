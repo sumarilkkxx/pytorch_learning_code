{
 "cells": [
  {
   "cell_type": "markdown",
   "metadata": {},
   "source": [
    "# 利用GPU进行模型训练"
   ]
  },
  {
   "cell_type": "code",
   "execution_count": 1,
   "metadata": {},
   "outputs": [],
   "source": [
    "#导入第三方库\n",
    "import torch, torchvision\n",
    "from torch import nn\n",
    "from torch.utils.tensorboard import SummaryWriter\n",
    "from torch.utils.data import DataLoader\n",
    "import time"
   ]
  },
  {
   "cell_type": "code",
   "execution_count": 2,
   "metadata": {},
   "outputs": [
    {
     "name": "stdout",
     "output_type": "stream",
     "text": [
      "Files already downloaded and verified\n",
      "Files already downloaded and verified\n",
      "测试集的长度为：10000\n"
     ]
    }
   ],
   "source": [
    "#准备数据集\n",
    "train_data = torchvision.datasets.CIFAR10(root='dataset_CIFAR10', train=True, transform=torchvision.transforms.ToTensor(), download=True)\n",
    "test_data = torchvision.datasets.CIFAR10(root='dataset_CIFAR10', train=False, transform=torchvision.transforms.ToTensor(), download=True)\n",
    "test_data_size = len(test_data)\n",
    "print(\"测试集的长度为：{}\".format(test_data_size))"
   ]
  },
  {
   "cell_type": "code",
   "execution_count": 3,
   "metadata": {},
   "outputs": [],
   "source": [
    "#使用DataLoader方法加载数据集\n",
    "train_dataloader = DataLoader(train_data, batch_size= 64, shuffle= True)\n",
    "test_dataloader = DataLoader(test_data, batch_size= 64, shuffle= True)"
   ]
  },
  {
   "cell_type": "code",
   "execution_count": 4,
   "metadata": {},
   "outputs": [],
   "source": [
    "#定义训练的设备\n",
    "device = torch.device(\"cuda:0\")"
   ]
  },
  {
   "cell_type": "code",
   "execution_count": 5,
   "metadata": {},
   "outputs": [],
   "source": [
    "#第一种利用cuda核心训练神经网络方式：网络模型->数据(输入、标注)->损失函数->.cuda()\n",
    "#搭建神经网络\n",
    "class Model(nn.Module):\n",
    "    def __init__(self):\n",
    "        super(Model, self).__init__()\n",
    "        self.model = nn.Sequential(\n",
    "            nn.Conv2d(3, 32, 5, 1, 2),\n",
    "            nn.MaxPool2d(2),\n",
    "            nn.Conv2d(32, 32, 5, 1, 2),\n",
    "            nn.MaxPool2d(2),\n",
    "            nn.Conv2d(32, 64, 5, 1, 2),\n",
    "            nn.MaxPool2d(2),\n",
    "            nn.Flatten(),\n",
    "            nn.Linear(64*4*4, 64),\n",
    "            nn.Linear(64, 10)\n",
    "        )\n",
    "\n",
    "    def forward(self, x):\n",
    "        x = self.model(x)\n",
    "        return x\n",
    "model = Model()\n",
    "#先判断cuda核心是否可用\n",
    "if torch.cuda.is_available():\n",
    "    model = model.cuda()\n",
    "    #另外一种方法\n",
    "    # model = model.to(device)"
   ]
  },
  {
   "cell_type": "code",
   "execution_count": 6,
   "metadata": {},
   "outputs": [],
   "source": [
    "#使用交叉熵损失函数创建模型的损失函数\n",
    "loss_fn = nn.CrossEntropyLoss()\n",
    "loss_fn = loss_fn.cuda()\n",
    "#定义优化器\n",
    "learning_rate = 1e-2\n",
    "optimizer = torch.optim.SGD(model.parameters(), lr=learning_rate)\n",
    "#优化器没有cuda加速训练的方法"
   ]
  },
  {
   "cell_type": "code",
   "execution_count": 7,
   "metadata": {},
   "outputs": [
    {
     "name": "stdout",
     "output_type": "stream",
     "text": [
      "-------第1轮训练开始-------\n",
      "0.9727919101715088\n",
      "训练次数：100, 当前Loss: 2.2911949157714844\n",
      "1.5145742893218994\n",
      "训练次数：200, 当前Loss: 2.289673089981079\n",
      "2.0448877811431885\n",
      "训练次数：300, 当前Loss: 2.2363781929016113\n",
      "2.5751590728759766\n",
      "训练次数：400, 当前Loss: 2.2254726886749268\n",
      "3.1105339527130127\n",
      "训练次数：500, 当前Loss: 2.128535747528076\n",
      "3.6501312255859375\n",
      "训练次数：600, 当前Loss: 2.062572717666626\n",
      "4.185084342956543\n",
      "训练次数：700, 当前Loss: 2.120497465133667\n",
      "整体测试集上的Loss: 308.69366323947906\n",
      "整体测试集上的Accuracy: 0.2929\n",
      "模型已保存\n",
      "-------第2轮训练开始-------\n",
      "5.505678653717041\n",
      "训练次数：800, 当前Loss: 2.099717855453491\n",
      "6.04382848739624\n",
      "训练次数：900, 当前Loss: 1.961594820022583\n",
      "6.572624444961548\n",
      "训练次数：1000, 当前Loss: 1.8531745672225952\n",
      "7.101970672607422\n",
      "训练次数：1100, 当前Loss: 1.8620669841766357\n",
      "7.6395299434661865\n",
      "训练次数：1200, 当前Loss: 1.798309564590454\n",
      "8.159215450286865\n",
      "训练次数：1300, 当前Loss: 1.9509247541427612\n"
     ]
    }
   ],
   "source": [
    "# 添加tensorboard\n",
    "writer = SummaryWriter(log_dir= \"logs_train_model\")\n",
    "start_time = time.time()\n",
    "\n",
    "#设置训练网络的一些参数\n",
    "#记录训练的次数\n",
    "total_train_step = 0\n",
    "#记录测试的次数\n",
    "total_test_step = 0\n",
    "#设置训练的轮数\n",
    "epochs = 30\n",
    "\n",
    "for epoch in range(epochs):\n",
    "    print(\"-------第{}轮训练开始-------\".format(epoch+1))\n",
    "    #训练步骤\n",
    "    #在此处可以使用model.train()方法设置模型为训练状态，对模型中的Dropout以及BatchNorm有效\n",
    "    model.train()\n",
    "    for data in train_dataloader:\n",
    "        imgs, targets = data\n",
    "        if torch.cuda.is_available():\n",
    "            imgs = imgs.cuda()\n",
    "            targets = targets.cuda()\n",
    "            #另一种方法\n",
    "            # imgs = imgs.to(device)\n",
    "            # targets = targets.to(device)\n",
    "        outputs = model(imgs)\n",
    "        loss = loss_fn(outputs, targets)\n",
    "        #在进行反向传播优化模型参前，将参数梯度清零\n",
    "        optimizer.zero_grad()\n",
    "        #反向传播\n",
    "        loss.backward()\n",
    "        #调用优化器进行参数优化\n",
    "        optimizer.step()\n",
    "        total_train_step += 1\n",
    "        if total_train_step % 100 == 0:\n",
    "            #记录训练时间\n",
    "            end_time = time.time()\n",
    "            print(end_time-start_time)\n",
    "            # print(\"训练次数为：{}, Loss: {}\".format(total_train_step, loss\n",
    "            # print(\"训练次数为：{}, Loss: {}\".format(total_train_step, loss)),推荐使用loss.item()方法，将数据类型转变为浮点数\n",
    "            print(\"训练次数：{}, 当前Loss: {}\".format(total_train_step, loss.item()))\n",
    "            writer.add_scalar(\"train_loss\", loss.item(), total_train_step)\n",
    "\n",
    "    #测试步骤\n",
    "    #在此处可以使用model.eval()方法设置模型为验证状态，对模型中的Dropout以及BatchNorm有效\n",
    "    model.eval()\n",
    "    total_test_loss = 0\n",
    "    total_accuracy = 0\n",
    "    with torch.no_grad():\n",
    "        for data in test_dataloader:\n",
    "            imgs, targets = data\n",
    "            if torch.cuda.is_available():\n",
    "                imgs = imgs.cuda()\n",
    "                targets = targets.cuda()\n",
    "                #另一种方法\n",
    "                # imgs = imgs.to(device)\n",
    "                # targets = targets.to(device)\n",
    "            outputs = model(imgs)\n",
    "            loss = loss_fn(outputs, targets)\n",
    "            total_test_loss += loss.item()\n",
    "            accuracy = (outputs.argmax(1)== targets).sum().item()\n",
    "            total_accuracy += accuracy\n",
    "    print(\"整体测试集上的Loss: {}\".format(total_test_loss))\n",
    "    print(\"整体测试集上的Accuracy: {}\".format(total_accuracy/test_data_size))\n",
    "    writer.add_scalar(\"test_accuracy\",total_accuracy/test_data_size, total_test_step)\n",
    "    writer.add_scalar(\"test_loss\", total_test_loss, total_test_step)\n",
    "    total_test_step += 1\n",
    "    #保存模型\n",
    "    # torch.save(model, \"models/model_{}.pth\".format(epoch+1))\n",
    "    #官方推荐的保存方式\n",
    "    torch.save(model.state_dict(), \"models_train/model_{}.pth\".format(epoch+1))\n",
    "    print(\"模型已保存\")\n",
    "\n",
    "writer.close()"
   ]
  },
  {
   "cell_type": "code",
   "execution_count": 15,
   "metadata": {},
   "outputs": [
    {
     "name": "stdout",
     "output_type": "stream",
     "text": [
      "Sun Oct 13 23:02:36 2024       \n",
      "+-----------------------------------------------------------------------------------------+\n",
      "| NVIDIA-SMI 561.09                 Driver Version: 561.09         CUDA Version: 12.6     |\n",
      "|-----------------------------------------+------------------------+----------------------+\n",
      "| GPU  Name                  Driver-Model | Bus-Id          Disp.A | Volatile Uncorr. ECC |\n",
      "| Fan  Temp   Perf          Pwr:Usage/Cap |           Memory-Usage | GPU-Util  Compute M. |\n",
      "|                                         |                        |               MIG M. |\n",
      "|=========================================+========================+======================|\n",
      "|   0  NVIDIA GeForce RTX 4060 Ti   WDDM  |   00000000:01:00.0  On |                  N/A |\n",
      "| 50%   44C    P0             30W /  160W |    1526MiB /   8188MiB |      1%      Default |\n",
      "|                                         |                        |                  N/A |\n",
      "+-----------------------------------------+------------------------+----------------------+\n",
      "                                                                                         \n",
      "+-----------------------------------------------------------------------------------------+\n",
      "| Processes:                                                                              |\n",
      "|  GPU   GI   CI        PID   Type   Process name                              GPU Memory |\n",
      "|        ID   ID                                                               Usage      |\n",
      "|=========================================================================================|\n",
      "|    0   N/A  N/A      3844    C+G   ...GeForce Experience\\NVIDIA Share.exe      N/A      |\n",
      "|    0   N/A  N/A      7088      C   D:\\Anaconda\\envs\\pytorch\\python.exe         N/A      |\n",
      "|    0   N/A  N/A      7760    C+G   ...5n1h2txyewy\\ShellExperienceHost.exe      N/A      |\n",
      "|    0   N/A  N/A      8388    C+G   ...ekyb3d8bbwe\\PhoneExperienceHost.exe      N/A      |\n",
      "|    0   N/A  N/A      8400    C+G   ...2txyewy\\StartMenuExperienceHost.exe      N/A      |\n",
      "|    0   N/A  N/A      9088    C+G   ...B\\system_tray\\lghub_system_tray.exe      N/A      |\n",
      "|    0   N/A  N/A      9476    C+G   D:\\Microsoft VS Code\\Code.exe               N/A      |\n",
      "|    0   N/A  N/A     12188    C+G   ...inaries\\Win64\\EpicGamesLauncher.exe      N/A      |\n",
      "|    0   N/A  N/A     12760    C+G   ...GeForce Experience\\NVIDIA Share.exe      N/A      |\n",
      "|    0   N/A  N/A     14004    C+G   ...\\cef\\cef.win7x64\\steamwebhelper.exe      N/A      |\n",
      "|    0   N/A  N/A     15460    C+G   ...\\cef\\cef.win7x64\\steamwebhelper.exe      N/A      |\n",
      "|    0   N/A  N/A     15932    C+G   ...crosoft\\Edge\\Application\\msedge.exe      N/A      |\n",
      "|    0   N/A  N/A     17032    C+G   ...on\\wallpaper_engine\\wallpaper32.exe      N/A      |\n",
      "|    0   N/A  N/A     17684    C+G   D:\\ToDesk\\ToDesk.exe                        N/A      |\n",
      "|    0   N/A  N/A     19000    C+G   ...CBS_cw5n1h2txyewy\\TextInputHost.exe      N/A      |\n",
      "|    0   N/A  N/A     19540    C+G   ...ne\\Binaries\\Win64\\EpicWebHelper.exe      N/A      |\n",
      "|    0   N/A  N/A     19644    C+G   ...les\\Microsoft OneDrive\\OneDrive.exe      N/A      |\n",
      "|    0   N/A  N/A     21412    C+G   ...on\\129.0.2792.89\\msedgewebview2.exe      N/A      |\n",
      "|    0   N/A  N/A     22200    C+G   ...les\\GIGABYTE\\Control Center\\GCC.exe      N/A      |\n",
      "|    0   N/A  N/A     22260    C+G   ...siveControlPanel\\SystemSettings.exe      N/A      |\n",
      "|    0   N/A  N/A     22336    C+G   C:\\Windows\\System32\\dwm.exe                 N/A      |\n",
      "|    0   N/A  N/A     23608    C+G   ...0.0_x64__p7pnf6hceqser\\snipaste.exe      N/A      |\n",
      "|    0   N/A  N/A     23684    C+G   ...nt.CBS_cw5n1h2txyewy\\SearchHost.exe      N/A      |\n",
      "|    0   N/A  N/A     24340    C+G   C:\\Windows\\explorer.exe                     N/A      |\n",
      "+-----------------------------------------------------------------------------------------+\n"
     ]
    }
   ],
   "source": [
    "#打印显卡硬件信息\n",
    "!nvidia-smi"
   ]
  },
  {
   "cell_type": "code",
   "execution_count": null,
   "metadata": {},
   "outputs": [],
   "source": [
    "#第二种使用GPU训练模型的方法 .to(device)\n",
    "#判断电脑中是否有GPU，如果有则使用GPU，否则使用CPU进行训练\n",
    "#Device = torch.device(\"cuda\" if torch.cuda.is_available() else \"cpu\")\n",
    "#指定显卡进行训练\n",
    "Torch.device(\"cuda:0\")"
   ]
  }
 ],
 "metadata": {
  "kernelspec": {
   "display_name": "Python 3",
   "language": "python",
   "name": "python3"
  },
  "language_info": {
   "codemirror_mode": {
    "name": "ipython",
    "version": 3
   },
   "file_extension": ".py",
   "mimetype": "text/x-python",
   "name": "python",
   "nbconvert_exporter": "python",
   "pygments_lexer": "ipython3",
   "version": "3.9.19"
  }
 },
 "nbformat": 4,
 "nbformat_minor": 2
}
